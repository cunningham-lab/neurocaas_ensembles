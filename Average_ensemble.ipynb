{
 "cells": [
  {
   "cell_type": "code",
   "execution_count": 1,
   "metadata": {},
   "outputs": [],
   "source": [
    "# Goal:visualize ensembles\n",
    "# are semi supervised networks better calibrated?\n",
    "# Step 1: visualize ensemble\n",
    "%load_ext autoreload\n",
    "%autoreload 2\n",
    "# now visualize 3D reconstruction"
   ]
  },
  {
   "cell_type": "code",
   "execution_count": 2,
   "metadata": {
    "scrolled": true
   },
   "outputs": [
    {
     "name": "stdout",
     "output_type": "stream",
     "text": [
      "DLC loaded in light mode; you cannot use any GUI (labeling, relabeling and standalone GUI)\n",
      "\n",
      "/share/home/ekb2154/data/datasets/tracki/iblfingers/model_data/iblfingers-kelly-2030-01-01\n",
      "\n",
      "['left_movieflip_labeledsnapshot-step3--1998.csv', 'right_movie_labeledsnapshot-step3-final--0.csv', 'left_movieflip_labeledsnapshot-step3-final--0.csv', 'right_movie_labeledsnapshot-step3--1998.csv']\n",
      "right_movie_labeledsnapshot-step3-final--0.csv\n",
      "\n",
      "/share/home/ekb2154/data/datasets/tracki/iblfingers/model_data/iblfingers-kelly-2030-01-02\n",
      "\n",
      "['right_movie_labeledsnapshot-step3-final--0.csv', 'left_movieflip_labeledsnapshot-step3--2664.csv', 'right_movie_labeledsnapshot-step3--2664.csv', 'left_movieflip_labeledsnapshot-step3-final--0.csv']\n",
      "right_movie_labeledsnapshot-step3-final--0.csv\n",
      "\n",
      "/share/home/ekb2154/data/datasets/tracki/iblfingers/model_data/iblfingers-kelly-2030-01-03\n",
      "\n",
      "['left_movieflip_labeledsnapshot-step3--2331.csv', 'right_movie_labeledsnapshot-step3-final--0.csv', 'left_movieflip_labeledsnapshot-step3-final--0.csv', 'right_movie_labeledsnapshot-step3--2331.csv']\n",
      "right_movie_labeledsnapshot-step3-final--0.csv\n",
      "\n",
      "/share/home/ekb2154/data/datasets/tracki/iblfingers/model_data/iblfingers-kelly-2030-01-04\n",
      "\n",
      "['right_movie_labeledsnapshot-step3-final--0.csv', 'left_movieflip_labeledsnapshot-step3--2664.csv', 'right_movie_labeledsnapshot-step3--2664.csv', 'left_movieflip_labeledsnapshot-step3-final--0.csv']\n",
      "right_movie_labeledsnapshot-step3-final--0.csv\n"
     ]
    }
   ],
   "source": [
    "# given the ensembles, now average proportional to likelihood and average the likelihoods to get one final trace\n",
    "# is this trace significantly better than other traces?\n",
    "# it is hard to measure calibration because the likelihoods are wrt sigmoid and not softmax\n",
    "# first load the ensembles and get trace estimates\n",
    "import warnings\n",
    "warnings.simplefilter(action='ignore', category=FutureWarning)\n",
    "from tensorflow.python.util import deprecation\n",
    "deprecation._PRINT_DEPRECATION_WARNINGS = False\n",
    "from deepgraphpose.models.fitdgp_util import get_snapshot_path\n",
    "import os\n",
    "os.environ['DLClight'] = 'True'\n",
    "from deepgraphpose.models.eval import load_pose_from_dlc_to_dict, estimate_pose\n",
    "from pathlib import Path\n",
    "import pandas as pd\n",
    "import numpy as np\n",
    "import matplotlib\n",
    "matplotlib.use('Agg')\n",
    "from moviepy.editor import VideoFileClip\n",
    "from matplotlib import animation\n",
    "import numpy as np\n",
    "#video_name = 'left_movieflip'\n",
    "video_name = 'right_movie'\n",
    "\n",
    "task=\"iblright\"\n",
    "#full_dir = '/datahd2a/datasets/tracki/{}'.format(task)\n",
    "#full_dir = '/data/datasets/tracki' #/{}'.format(task)\n",
    "task=\"iblfingers\"\n",
    "full_dir = \"/share/home/ekb2154/data/datasets/tracki/{}/model_data/\".format(task)\n",
    "#task=\"iblright\"\n",
    "scorer=\"kelly\"\n",
    "# new dates for ensemble\n",
    "ranges = range(1,5)\n",
    "dates= [\"2030-01-0{}\".format(ii) for ii in ranges]\n",
    "run_names= [\"run {}\".format(ii) for ii in ranges]\n",
    "frame_range = np.arange(0, 1000).astype('int')\n",
    "n_frames = frame_range.size\n",
    "# video_name = 'ibl60left'  #['ibl60left', 'ibl60right']\n",
    "moviefile = \"/home/ekb2154/data/libraries/dgp_paninski/etc/ensembles/iblvideos/\" + video_name + '.mp4'#project_dir / \"videos\" / (\"{}.mp4\".format(video_name))\n",
    "snapshot ='snapshot-step3-final--0'\n",
    "outname = '{}'.format(task)\n",
    "#figname = 'comparison_{}.mp4'.format(outname)\n",
    "shuffle=1\n",
    "# make plot comparing them\n",
    "xrs, yrs, likelihoods, heatmaps = [], [], [], []\n",
    "for date_ in dates:\n",
    "    project_dir = Path(full_dir)/ \"{}-{}-{}\".format(task,scorer, date_)\n",
    "    print(\"\\n{}\\n\".format(project_dir))\n",
    "    video_files = os.listdir(project_dir / \"videos_pred\" )\n",
    "    video_files = [video_file_ for video_file_ in video_files if '.csv' in video_file_]\n",
    "    #video_files = [video_file_ for video_file_ in video_files if video_name in video_file_]\n",
    "    #import pdb; pdb.set_trace()\n",
    "    #assert  len(video_files) == 1\n",
    "    #video_files =['{}{}.csv'.format(video_name, snapshot)]\n",
    "    print(video_files)\n",
    "    video_files =['{}_labeled{}.csv'.format(video_name, snapshot)]\n",
    "    #break\n",
    "    label_file = str(project_dir / \"videos_pred\" / video_files[0])\n",
    "    #label_file = project_dir / \"videos_pred\" / (\"{}_labeled{}.csv\".format(video_name, snapshot))\n",
    "    # load labels\n",
    "    print(label_file.rsplit('/',1)[-1])\n",
    "    # if we don't need heatmaps\n",
    "    #labels = np.load(label_file, allow_pickle=True)[()]\n",
    "    labels = load_pose_from_dlc_to_dict(label_file)\n",
    "    # since we need heatmaps\n",
    "    #snapshot_path, _ = get_snapshot_path(snapshot, project_dir, shuffle=shuffle)\n",
    "    #cfg = auxiliaryfunctions.read_config(cfg_yaml)\n",
    "    #labels = estimate_pose( str(project_dir/ \"config.yaml\"), snapshot_path, moviefile, \"\", shuffle=shuffle,\n",
    "    #    save_pose=False, save_str='', new_size=None, save_heatmap=True)\n",
    "    xr = labels['x']  # T x D\n",
    "    yr = labels['y']  # T x D\n",
    "    likelihood = labels['likelihoods']\n",
    "    #heatmap = labels['heatmap']\n",
    "    xr = xr[frame_range, :]\n",
    "    yr = yr[frame_range, :]\n",
    "    likelihood=likelihood[frame_range,:]\n",
    "    xrs.append(xr)\n",
    "    yrs.append(yr)\n",
    "    likelihoods.append(likelihood)\n",
    "    #heatmaps.append(heatmap)"
   ]
  },
  {
   "cell_type": "code",
   "execution_count": 3,
   "metadata": {},
   "outputs": [],
   "source": [
    "# Make video from disagreements\n",
    "num_frames, nj = xrs[0].shape\n",
    "num_ensembles = len(xrs)\n",
    "# how would you plot disagreement between frames\n",
    "xrs_mean = np.stack(xrs,0).mean(0)\n",
    "yrs_mean = np.stack(yrs,0).mean(0)\n",
    "def distance_mean(xr, yr, xrm, yrm):\n",
    "    distance = np.sqrt((xr- xrm)**2 + (yr - yrm)**2)\n",
    "    return distance\n",
    "\n",
    "dmean = np.zeros((num_ensembles, num_frames, nj))\n",
    "for ii, (xr, yr)  in enumerate(zip(xrs, yrs)):\n",
    "    dmean[ii] = distance_mean(xr, yr, xrs_mean, yrs_mean)\n"
   ]
  },
  {
   "cell_type": "code",
   "execution_count": 4,
   "metadata": {},
   "outputs": [],
   "source": [
    "distance_threshold = 40\n",
    "mask_outliers = dmean > distance_threshold\n",
    "mask_outliers = mask_outliers.sum(0).sum(1)"
   ]
  },
  {
   "cell_type": "code",
   "execution_count": 13,
   "metadata": {},
   "outputs": [],
   "source": [
    "frame_indices = np.argwhere(mask_outliers).flatten()"
   ]
  },
  {
   "cell_type": "code",
   "execution_count": 16,
   "metadata": {},
   "outputs": [],
   "source": [
    "frame_indices= np.argsort(dmean.sum(0).sum(1))[::-1][:len(frame_indices)+5]"
   ]
  },
  {
   "cell_type": "code",
   "execution_count": 17,
   "metadata": {},
   "outputs": [
    {
     "name": "stderr",
     "output_type": "stream",
     "text": [
      "t:   0%|          | 0/26 [00:00<?, ?it/s, now=None]"
     ]
    },
    {
     "name": "stdout",
     "output_type": "stream",
     "text": [
      "Moviepy - Building video /home/ekb2154/data/libraries/dgp_paninski/etc/ensembles/iblvideos/right_movie_diff.mp4.\n",
      "Moviepy - Writing video /home/ekb2154/data/libraries/dgp_paninski/etc/ensembles/iblvideos/right_movie_diff.mp4\n",
      "\n"
     ]
    },
    {
     "name": "stderr",
     "output_type": "stream",
     "text": [
      "                                                            \r"
     ]
    },
    {
     "name": "stdout",
     "output_type": "stream",
     "text": [
      "Moviepy - Done !\n",
      "Moviepy - video ready /home/ekb2154/data/libraries/dgp_paninski/etc/ensembles/iblvideos/right_movie_diff.mp4\n",
      "Created disagreement video in /home/ekb2154/data/libraries/dgp_paninski/etc/ensembles/iblvideos/right_movie_diff.mp4\n"
     ]
    }
   ],
   "source": [
    "# frames where these networks disagree\n",
    "from moviepy.editor import VideoFileClip, VideoClip, ImageSequenceClip\n",
    "clip = VideoFileClip(moviefile)\n",
    "fps = clip.fps\n",
    "ny, nx = clip.size\n",
    "num_new_frames = len(frame_indices)\n",
    "randomly_sampled_frames = np.zeros((num_new_frames, nx,ny, 3))\n",
    "for idxs, frame_idx in enumerate(frame_indices):\n",
    "        randomly_sampled_frames[idxs] = clip.get_frame(frame_idx *1.0/fps)#[:,:, 0]\n",
    "clip2 = ImageSequenceClip(list(randomly_sampled_frames), fps=fps)\n",
    "clip2_name =Path(moviefile).parent / (Path(moviefile).stem + \"_diff.mp4\")\n",
    "clip2.write_videofile(str(clip2_name))\n",
    "clip.close()\n",
    "clip2.close()\n",
    "print('Created disagreement video in {}'.format(str(clip2_name)))"
   ]
  },
  {
   "cell_type": "code",
   "execution_count": null,
   "metadata": {},
   "outputs": [],
   "source": [
    "%matplotlib inline\n",
    "import matplotlib.pyplot as plt"
   ]
  },
  {
   "cell_type": "code",
   "execution_count": null,
   "metadata": {},
   "outputs": [],
   "source": [
    "plt.hist(dmean[0])\n",
    "plt.show()"
   ]
  },
  {
   "cell_type": "code",
   "execution_count": null,
   "metadata": {},
   "outputs": [],
   "source": [
    "%matplotlib inline\n",
    "\"\"\"\n",
    "tplot = 0\n",
    "njplot = 0 \n",
    "fig, ax = plt.subplots(nensembles+1, 1)\n",
    "for ii in range(nensembles):\n",
    "    ax[ii].imshow(heatmaps[ii][tplot,:,:, njplot])\n",
    "ax[-1].imshow(median_hmap[tplot,:,:, njplot])\n",
    "\n",
    "plt.show()\n",
    "# From this median read new coordinates \n",
    "coordinates = np.zeros((nt, nj))\n",
    "for ntt in range(nt):\n",
    "    for njj in range(nj):\n",
    "        coordinates[ntt, njj]= np.argmax()\n",
    "\"\"\""
   ]
  },
  {
   "cell_type": "code",
   "execution_count": null,
   "metadata": {},
   "outputs": [],
   "source": [
    "nt, nj = xr.shape"
   ]
  },
  {
   "cell_type": "code",
   "execution_count": null,
   "metadata": {},
   "outputs": [],
   "source": [
    "x_wmean = np.empty_like(xr)\n",
    "y_wmean = np.empty_like(yr)\n",
    "l_wmean = np.empty_like(yr)#\n",
    "l_weight = np.dstack(likelihoods).sum(-1)\n",
    "\n",
    "num_runs = len(xrs)\n",
    "for ii in range(num_runs):\n",
    "    x_wmean += xrs[ii]*likelihoods[ii]\n",
    "    y_wmean += yrs[ii]*likelihoods[ii]\n",
    "    l_wmean += likelihoods[ii]*likelihoods[ii]\n",
    "\n",
    "x_wmean /=l_weight\n",
    "y_wmean /=l_weight\n",
    "l_wmean/=l_weight"
   ]
  },
  {
   "cell_type": "code",
   "execution_count": null,
   "metadata": {},
   "outputs": [],
   "source": [
    "likelihoods2= np.dstack(likelihoods)\n",
    "max_cte = np.zeros((nt, nj))\n",
    "\n",
    "for tt in range(nt):\n",
    "    for njj in range(nj):\n",
    "        max_cte[tt, njj]= np.argmax(likelihoods2[tt, njj])\n",
    "max_cte = max_cte.astype('int')"
   ]
  },
  {
   "cell_type": "code",
   "execution_count": null,
   "metadata": {},
   "outputs": [],
   "source": [
    "x_wmean = np.empty_like(xr)\n",
    "y_wmean = np.empty_like(yr)\n",
    "for tt in range(nt):\n",
    "    for njj in range(nj):\n",
    "        xte_  = max_cte[tt,njj]\n",
    "        x_wmean[tt,njj] = xrs[xte_][tt,njj]\n",
    "        y_wmean[tt,njj] = yrs[xte_][tt,njj]"
   ]
  },
  {
   "cell_type": "code",
   "execution_count": null,
   "metadata": {},
   "outputs": [],
   "source": [
    "#y_wmean[0,0]\n",
    "run_names.append('ensemble')\n",
    "xrs.append(x_wmean)\n",
    "yrs.append(y_wmean)"
   ]
  },
  {
   "cell_type": "code",
   "execution_count": null,
   "metadata": {},
   "outputs": [],
   "source": [
    "nj = xr.shape[1]\n",
    "num_traces = len(xrs)\n",
    "bodyparts = ['part {}'.format(ii) for ii in range(nj)] # replace w real name\n",
    "#%%\n",
    "print('Init video')\n",
    "video_clip = VideoFileClip(str(moviefile))\n",
    "fps = video_clip.fps\n",
    "n_frames = min(n_frames, np.ceil(video_clip.fps * video_clip.duration).astype('int'))\n",
    "frame_init = frame_range[0] / fps\n",
    "frame_stop = frame_range[-1] / fps\n",
    "# video_clip = video_clip.subclip(0, (n_frames / fps)) # it didnt take into account the range\n",
    "video_clip = video_clip.subclip(frame_init, frame_stop) # it didnt take into account the range"
   ]
  },
  {
   "cell_type": "code",
   "execution_count": null,
   "metadata": {},
   "outputs": [],
   "source": [
    "#np.unravel_index(np.argmax(x_wmean), x_wmean.shape)"
   ]
  },
  {
   "cell_type": "code",
   "execution_count": null,
   "metadata": {},
   "outputs": [],
   "source": [
    "xrs[0].max()"
   ]
  },
  {
   "cell_type": "code",
   "execution_count": null,
   "metadata": {},
   "outputs": [],
   "source": [
    "num_rows"
   ]
  },
  {
   "cell_type": "code",
   "execution_count": null,
   "metadata": {},
   "outputs": [],
   "source": [
    "#%%\n",
    "from itertools import chain\n",
    "import numpy as np\n",
    "import matplotlib.pyplot as plt\n",
    "import matplotlib as mpl\n",
    "\n",
    "mpl.rcParams.update({  # 'font.sans-serif' : 'Helveltica',\n",
    "    'axes.labelsize': 9,\n",
    "    'xtick.labelsize': 9,\n",
    "    'ytick.labelsize': 9,\n",
    "    'axes.titlesize': 11})\n",
    "#%%\n",
    "# coment out y \n",
    "num_coordinates = 1 # x and y or just 2\n",
    "fig2 = plt.figure(constrained_layout=False, figsize=(11, 10))\n",
    "widths = [2, 7]\n",
    "heights = np.ones(num_coordinates * nj)\n",
    "num_cols = 2\n",
    "num_rows = num_coordinates*nj\n",
    "spec2 = fig2.add_gridspec(ncols=num_cols, nrows=num_rows, width_ratios=widths,\n",
    "                          height_ratios=heights)\n",
    "\n",
    "framerows = num_rows// num_traces\n",
    "#%% Plot\n",
    "markersize = 2\n",
    "markersize2 = 5\n",
    "from matplotlib.lines import Line2D\n",
    "color_class = plt.cm.ScalarMappable(cmap=\"cool\")\n",
    "colors = color_class.to_rgba(np.linspace(0, 1, nj))\n",
    "markers = Line2D.filled_markers[:num_traces]\n",
    "\n",
    "#%%\n",
    "frame_0name = 0\n",
    "frame = video_clip.get_frame(0)\n",
    "tidx = 0\n",
    "colors_traces= ['C{}'.format(ii) for ii in range(num_traces)]\n",
    "\n",
    "imagesfig = [[]]*num_traces\n",
    "imagesmakers = [[]]*num_traces*nj\n",
    "xtracesmarkers = [[]]*num_traces*nj\n",
    "ytracesmarkers = [[]]*num_traces*nj\n",
    "frametitles = [[]]*num_traces\n",
    "\n",
    "count= 0\n",
    "count1 = 0\n",
    "for ss_idx in range(num_traces):\n",
    "    # for the image\n",
    "    f2_ax1 = fig2.add_subplot(spec2[ss_idx*framerows:ss_idx*framerows+ framerows, 0])\n",
    "    if ss_idx == 0:\n",
    "        frametitles[ss_idx] = f2_ax1.set_title('Frame {} \\n {} '.format(frame_0name, run_names[ss_idx]),\n",
    "                                               color=colors_traces[ss_idx], weight='bold')\n",
    "    else:\n",
    "        frametitles[ss_idx] = f2_ax1.set_title('{}'.format(run_names[ss_idx]),\n",
    "                                               color=colors_traces[ss_idx], weight='bold')\n",
    "    imagesfig[ss_idx] = f2_ax1.imshow(frame)\n",
    "    dgp_frames = []\n",
    "    for njj in range(nj):\n",
    "        dxs_dgp = xrs[ss_idx][tidx]\n",
    "        dys_dgp = yrs[ss_idx][tidx]\n",
    "        dgp_frame, = f2_ax1.plot(dxs_dgp[njj], dys_dgp[njj], c=colors[njj],\n",
    "            marker=markers[ss_idx], ms=markersize, )\n",
    "        imagesmakers[count] = dgp_frame\n",
    "        count+=1\n",
    "    # x traces\n",
    "    for njj in range(nj):\n",
    "        f2_ax2 = fig2.add_subplot(spec2[num_coordinates * njj, 1:])\n",
    "        f2_ax2.set_yticks([])\n",
    "        f2_ax2.set_xticks([])\n",
    "        # plot trace\n",
    "        f2_ax2.plot(xrs[ss_idx][:, njj], c=colors_traces[ss_idx], linewidth=1.5, linestyle='--')\n",
    "        dgp_mtx, = f2_ax2.plot(tidx, dxs_dgp[njj], c=colors_traces[ss_idx], marker=markers[ss_idx], markersize=markersize2,\n",
    "                               markerfacecolor=None)\n",
    "        #f2_ax2.set_ylabel('x')\n",
    "        f2_ax2.set_xlim([0, n_frames])\n",
    "        f2_ax2.set_ylabel('{}'.format(bodyparts[njj]), color=colors[njj], weight='bold')\n",
    "\n",
    "        xtracesmarkers[count1] = dgp_mtx\n",
    "        count1+=1\n",
    "\n",
    "allmyparts = imagesfig + imagesmakers + xtracesmarkers\n",
    "    \n",
    "plt.tight_layout()\n",
    "plt.show()"
   ]
  },
  {
   "cell_type": "code",
   "execution_count": null,
   "metadata": {},
   "outputs": [],
   "source": [
    "xrs[0].shape"
   ]
  },
  {
   "cell_type": "code",
   "execution_count": null,
   "metadata": {},
   "outputs": [],
   "source": [
    "# is this the best possible outcome?\n",
    "# need to visualize a video w masked likelihoods\n",
    "labels = {}\n",
    "labels['likelihoods']= "
   ]
  },
  {
   "cell_type": "code",
   "execution_count": null,
   "metadata": {},
   "outputs": [],
   "source": [
    "video_clip = VideoFileClip(str(video_file))\n",
    "mask_array = labels['likelihoods'].T > mask_threshold\n",
    "# make movie\n",
    "create_annotated_movie(\n",
    "        video_clip,\n",
    "        labels['x'].T,\n",
    "        labels['y'].T,\n",
    "        mask_array=mask_array,\n",
    "        filename=save_file, dotsize=dotsize, colormap=colormap)\n",
    "\n",
    "video_clip.close()"
   ]
  },
  {
   "cell_type": "code",
   "execution_count": null,
   "metadata": {},
   "outputs": [],
   "source": [
    "#heatmaps are too expensive"
   ]
  }
 ],
 "metadata": {
  "kernelspec": {
   "display_name": "Python 3",
   "language": "python",
   "name": "python3"
  },
  "language_info": {
   "codemirror_mode": {
    "name": "ipython",
    "version": 3
   },
   "file_extension": ".py",
   "mimetype": "text/x-python",
   "name": "python",
   "nbconvert_exporter": "python",
   "pygments_lexer": "ipython3",
   "version": "3.6.8"
  }
 },
 "nbformat": 4,
 "nbformat_minor": 4
}
